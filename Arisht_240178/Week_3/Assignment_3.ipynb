{
  "cells": [
    {
      "cell_type": "markdown",
      "metadata": {
        "id": "93XQHTufB3_O"
      },
      "source": [
        "### Implement Edge Detection\n",
        "\n",
        "Write a Python function using OpenCV that takes an image file path as input, applies Canny edge detection on the image, and displays the original and edge-detected images side by side."
      ]
    },
    {
      "cell_type": "code",
      "execution_count": 18,
      "metadata": {
        "id": "lVSmMDmk_s1R"
      },
      "outputs": [
        {
          "data": {
            "text/plain": [
              "-1"
            ]
          },
          "execution_count": 18,
          "metadata": {},
          "output_type": "execute_result"
        }
      ],
      "source": [
        "import cv2 as cv\n",
        "import numpy as np\n",
        "\n",
        "path=input(\"Enter the path\")\n",
        "image=cv.imread(path)\n",
        "canny=cv.Canny(image,125,175)\n",
        "canny_recoloured=cv.cvtColor(canny, cv.COLOR_GRAY2BGR)\n",
        "window=np.concatenate((image,canny_recoloured), axis=1)\n",
        "cv.imshow(\"window\", window)\n",
        "cv.waitKey(0)"
      ]
    },
    {
      "cell_type": "markdown",
      "metadata": {
        "id": "vRzoOxEvCPyl"
      },
      "source": [
        "### Face and Eye Detection\n",
        "\n",
        "Create a function that detects faces and eyes in a given image using Haar cascades in OpenCV. The function should draw rectangles around detected faces and eyes and display the output image."
      ]
    },
    {
      "cell_type": "code",
      "execution_count": 13,
      "metadata": {
        "id": "e4irktxYCQKJ"
      },
      "outputs": [
        {
          "data": {
            "text/plain": [
              "-1"
            ]
          },
          "execution_count": 13,
          "metadata": {},
          "output_type": "execute_result"
        }
      ],
      "source": [
        "import cv2 as cv\n",
        "import numpy as np\n",
        "\n",
        "image = cv.imread(\"face.jpeg\")\n",
        "gray = cv.cvtColor(image, cv.COLOR_BGR2GRAY)\n",
        "face_cascade = cv.CascadeClassifier(cv.data.haarcascades + \"haarcascade_frontalface_default.xml\")\n",
        "eye_cascade = cv.CascadeClassifier(cv.data.haarcascades + \"haarcascade_eye.xml\")\n",
        "faces = face_cascade.detectMultiScale(gray, 1.3, 5)\n",
        "\n",
        "for (x,y,w,h) in faces:\n",
        "    face_img = cv.rectangle(image,(x,y),(x+w,y+h),(255,0,0),2)\n",
        "    roi_gray = gray[y:y+h, x:x+w]\n",
        "    roi_color = face_img[y:y+h, x:x+w]\n",
        "    eyes = eye_cascade.detectMultiScale(roi_gray)\n",
        "    for (ex,ey,ew,eh) in eyes:\n",
        "        cv.rectangle(roi_color,(ex,ey),(ex+ew,ey+eh),(0,255,0),2)\n",
        "\n",
        "cv.imshow(\"faces\", face_img)\n",
        "cv.waitKey(0)"
      ]
    },
    {
      "cell_type": "markdown",
      "metadata": {
        "id": "h59b-BnvCbWe"
      },
      "source": [
        "### Image Cropping Based on Facial Features\n",
        "\n",
        "Write a function that takes an image path as input and detects faces. If exactly one face is detected, return the cropped image of the face. Use Haar cascades for face detection."
      ]
    },
    {
      "cell_type": "code",
      "execution_count": 17,
      "metadata": {
        "id": "sukHNd-sCbHe"
      },
      "outputs": [],
      "source": [
        "import cv2 as cv\n",
        "import numpy as np\n",
        "\n",
        "path=input(\"Enter the path\")\n",
        "image=cv.imread(path)\n",
        "gray = cv.cvtColor(image, cv.COLOR_BGR2GRAY)\n",
        "face_cascade = cv.CascadeClassifier(cv.data.haarcascades + \"haarcascade_frontalface_default.xml\")\n",
        "faces = face_cascade.detectMultiScale(gray, 1.3, 5)\n",
        "\n",
        "for (x,y,w,h) in faces:\n",
        "    face_img = cv.rectangle(image,(x,y),(x+w,y+h),(255,0,0),2)\n",
        "if len(faces)==1:\n",
        "    cropped_face = face_img[y:y+h, x:x+w]\n",
        "    cv.imshow(\"faces\", cropped_face)\n",
        "    cv.waitKey(0)"
      ]
    },
    {
      "cell_type": "markdown",
      "metadata": {
        "id": "6zeYFj9nCnqX"
      },
      "source": [
        "### Feature Matching with ORB\n",
        "Create a Python script that uses ORB to detect and match features between two images. The script should display the matched keypoints on the output image."
      ]
    },
    {
      "cell_type": "code",
      "execution_count": 15,
      "metadata": {
        "id": "qpczpHxCCr74"
      },
      "outputs": [
        {
          "data": {
            "text/plain": [
              "-1"
            ]
          },
          "execution_count": 15,
          "metadata": {},
          "output_type": "execute_result"
        }
      ],
      "source": [
        "import cv2 as cv\n",
        "import numpy as np\n",
        "\n",
        "image_1=cv.imread(\"face.jpeg\")\n",
        "image_2=cv.imread(\"face.jpeg\")\n",
        "gray_1=cv.cvtColor(image_1, cv.COLOR_BGR2GRAY)\n",
        "gray_2=cv.cvtColor(image_2, cv.COLOR_BGR2GRAY)\n",
        "\n",
        "orb=cv.ORB_create()\n",
        "k1, d1=orb.detectAndCompute(gray_1, None)\n",
        "k2, d2=orb.detectAndCompute(gray_2, None)\n",
        "\n",
        "bf=cv.BFMatcher()\n",
        "matches=bf.match(d1, d2)\n",
        "final=cv.drawMatches(image_1, k1, image_2, k2, matches[:40], None)\n",
        "final=cv.resize(final, (1000,500))\n",
        "\n",
        "cv.imshow(\"mathced keypoints\", final)\n",
        "cv.waitKey(0)"
      ]
    },
    {
      "cell_type": "markdown",
      "metadata": {
        "id": "3sUEn0RXCsiB"
      },
      "source": [
        "### Applying Gaussian Blur for Noise Reduction\n",
        "Write a function that applies a Gaussian blur to an image to reduce noise and displays both the original and blurred images."
      ]
    },
    {
      "cell_type": "code",
      "execution_count": 1,
      "metadata": {
        "id": "3_lKp3bICzdl"
      },
      "outputs": [
        {
          "data": {
            "text/plain": [
              "-1"
            ]
          },
          "execution_count": 1,
          "metadata": {},
          "output_type": "execute_result"
        }
      ],
      "source": [
        "import cv2 as cv\n",
        "import numpy as np\n",
        "\n",
        "image = cv.imread(\"face.jpeg\")\n",
        "blur = cv.GaussianBlur(image, (5,5), cv.BORDER_DEFAULT)\n",
        "window = np.concatenate((image,blur), axis=1)\n",
        "cv.imshow(\"image\", window)\n",
        "cv.waitKey(0)"
      ]
    },
    {
      "cell_type": "markdown",
      "metadata": {
        "id": "fidnIKLWCzCx"
      },
      "source": [
        "### Pyramid Transform for Image Scaling\n",
        "Create a function that creates a pyramid of images (both up and down) for a given image and displays the results."
      ]
    },
    {
      "cell_type": "code",
      "execution_count": 3,
      "metadata": {
        "id": "ABndA3roC5fV"
      },
      "outputs": [],
      "source": [
        "import cv2 as cv\n",
        "\n",
        "def up(image):\n",
        "    l1=cv.pyrUp(image)\n",
        "    l2=cv.pyrUp(l1)\n",
        "    cv.imshow(\"Up_pyramid\", l2)\n",
        "    cv.waitKey(0)\n",
        "    cv.destroyAllWindows()\n",
        "\n",
        "def down(image):\n",
        "    l1=cv.pyrDown(image)\n",
        "    l2=cv.pyrDown(l1)\n",
        "    cv.imshow(\"Down_pyramid\", l2)\n",
        "    cv.waitKey(0)\n",
        "    cv.destroyAllWindows\n",
        "\n",
        "img=cv.imread(\"face.jpeg\")\n",
        "down(img)\n",
        "up(img)"
      ]
    },
    {
      "cell_type": "markdown",
      "metadata": {
        "id": "PHlKUjccC5La"
      },
      "source": [
        "### Implement Harris Corner Detection in Python\n",
        "Write a Python function using OpenCV that takes an image file as input and applies the Harris Corner Detection algorithm. Your function should display the original image with the detected corners marked. Include parameters to specify the block size, ksize, and free parameter for flexibility."
      ]
    },
    {
      "cell_type": "code",
      "execution_count": 7,
      "metadata": {
        "id": "beKkD_y0C7Ke"
      },
      "outputs": [
        {
          "data": {
            "text/plain": [
              "-1"
            ]
          },
          "execution_count": 7,
          "metadata": {},
          "output_type": "execute_result"
        }
      ],
      "source": [
        "import cv2 as cv\n",
        "import numpy as np\n",
        "\n",
        "path=input(\"Enter the path\")\n",
        "image=cv.imread(path)\n",
        "gray=cv.cvtColor(image, cv.COLOR_BGR2GRAY)\n",
        "gray=np.float32(gray)\n",
        "\n",
        "dst=cv.cornerHarris(gray, blockSize=2, ksize=3, k=0.04)\n",
        "dst=cv.dilate(dst, None)\n",
        "image [dst > 0.01 * dst.max()] = [0,0,255]\n",
        "\n",
        "cv.imshow(\"image\",image)\n",
        "cv.waitKey(0)"
      ]
    },
    {
      "cell_type": "markdown",
      "metadata": {
        "id": "46_GNSP5DE-Q"
      },
      "source": [
        "### SIFT Keypoint Detection and Description\n",
        "Create a function that reads an image, converts it to grayscale, and then applies the SIFT algorithm to detect keypoints and compute descriptors. Ensure the detected keypoints are visualized on the original image."
      ]
    },
    {
      "cell_type": "code",
      "execution_count": 9,
      "metadata": {
        "id": "SNml8psQDJcb"
      },
      "outputs": [
        {
          "data": {
            "text/plain": [
              "-1"
            ]
          },
          "execution_count": 9,
          "metadata": {},
          "output_type": "execute_result"
        }
      ],
      "source": [
        "import cv2 as cv\n",
        "\n",
        "image=cv.imread(\"face.jpeg\")\n",
        "gray=cv.cvtColor(image, cv.COLOR_BGR2GRAY)\n",
        "edge=cv.Canny(gray, 100, 200)\n",
        "\n",
        "sift=cv.SIFT_create()\n",
        "keypoints, descriptors=sift.detectAndCompute(gray, None)\n",
        "sift_image=cv.drawKeypoints(image, keypoints, None)\n",
        "\n",
        "cv.imshow(\"keypoints\", sift_image)\n",
        "cv.waitKey(0)"
      ]
    },
    {
      "cell_type": "markdown",
      "metadata": {
        "id": "E9Aa7newDJxY"
      },
      "source": [
        "### Feature Matching using ORB\n",
        "Develop a Python script that matches features between two images using the ORB algorithm. The script should display the matched features between the two images with lines connecting corresponding keypoints."
      ]
    },
    {
      "cell_type": "code",
      "execution_count": 17,
      "metadata": {
        "id": "pSFtPxbWDRFz"
      },
      "outputs": [
        {
          "data": {
            "text/plain": [
              "-1"
            ]
          },
          "execution_count": 17,
          "metadata": {},
          "output_type": "execute_result"
        }
      ],
      "source": [
        "import cv2 as cv\n",
        "import numpy as np\n",
        "\n",
        "image_1=cv.imread(\"face.jpeg\")\n",
        "image_2=cv.imread(\"face.jpeg\")\n",
        "gray_1=cv.cvtColor(image_1, cv.COLOR_BGR2GRAY)\n",
        "gray_2=cv.cvtColor(image_2, cv.COLOR_BGR2GRAY)\n",
        "\n",
        "orb=cv.ORB_create()\n",
        "k1, d1=orb.detectAndCompute(gray_1, None)\n",
        "k2, d2=orb.detectAndCompute(gray_2, None)\n",
        "\n",
        "bf=cv.BFMatcher()\n",
        "matches=bf.match(d1, d2)\n",
        "final=cv.drawMatches(image_1, k1, image_2, k2, matches[:40], None)\n",
        "final=cv.resize(final, (1000,500))\n",
        "\n",
        "cv.imshow(\"mathced keypoints\", final)\n",
        "cv.waitKey(0)"
      ]
    },
    {
      "cell_type": "markdown",
      "metadata": {
        "id": "JyuM-UuYDRbA"
      },
      "source": [
        "### Implement FAST Corner Detection\n",
        "Write a Python function to implement the FAST corner detection algorithm. The function should accept an image and return the image with detected keypoints highlighted."
      ]
    },
    {
      "cell_type": "code",
      "execution_count": 25,
      "metadata": {
        "id": "4HgLq8f_DTnO"
      },
      "outputs": [
        {
          "data": {
            "text/plain": [
              "-1"
            ]
          },
          "execution_count": 25,
          "metadata": {},
          "output_type": "execute_result"
        }
      ],
      "source": [
        "import cv2 as cv\n",
        "\n",
        "image=cv.imread(\"face.jpeg\")\n",
        "gray=cv.cvtColor(image, cv.COLOR_BGR2GRAY)\n",
        "\n",
        "fast=cv.FastFeatureDetector_create()\n",
        "fast.setNonmaxSuppression(False)\n",
        "fcd=fast.detect(gray, None)\n",
        "fcdi=cv.drawKeypoints(image, fcd, None, color=(0,255,0))\n",
        "\n",
        "cv.imshow(\"corners\", fcdi)\n",
        "cv.waitKey(0)"
      ]
    },
    {
      "cell_type": "markdown",
      "metadata": {
        "id": "MOJ-25wrDpiC"
      },
      "source": [
        "Tough questions"
      ]
    },
    {
      "cell_type": "markdown",
      "metadata": {
        "id": "tovusHoWDT6G"
      },
      "source": [
        "### Custom Canny Edge Detector Implementation\n",
        "Implement your own version of the Canny edge detection algorithm from scratch using Python (without using OpenCV functions). Your implementation should include:\n",
        "\n",
        "Gaussian filtering for noise reduction.\n",
        "Calculation of gradient magnitude and direction.\n",
        "Non-maximum suppression.\n",
        "Hysteresis thresholding. Your function should take an image as input and return an image with detected edges."
      ]
    },
    {
      "cell_type": "code",
      "execution_count": 61,
      "metadata": {
        "id": "ICcFqoUyDr_b"
      },
      "outputs": [],
      "source": [
        "import numpy as np\n",
        "import cv2 as cv\n",
        "#only used to show and read images\n",
        "from scipy import ndimage\n",
        "from scipy.ndimage import gaussian_filter\n",
        "\n",
        "image=cv.imread(\"face.jpeg\")\n",
        "\n",
        "def canny(img):\n",
        "    \n",
        "    #grayscale conversion\n",
        "    gray =np.dot(img[..., :3], [0.1140, 0.5870, 0.2989])\n",
        "    \n",
        "    #gaussian blur\n",
        "    blur=gaussian_filter(gray, sigma=1)\n",
        "\n",
        "    #gradient calculation\n",
        "    Kx = np.array([[-1, 0, 1],[-2, 0, 2],[-1, 0, 1]], dtype=np.float32)\n",
        "    Ky = np.array([[1, 2, 1],[0, 0, 0],[-1, -2, -1]], dtype=np.float32)\n",
        "    Gx = ndimage.convolve(blur, Kx)\n",
        "    Gy = ndimage.convolve(blur, Ky)\n",
        "    mag=np.hypot(Gx, Gy)\n",
        "    dir = np.arctan2(Gy, Gx)\n",
        "    \n",
        "\n",
        "    #non maximum suppression\n",
        "    sup=np.zeros((mag.shape))\n",
        "    angle=dir*180.0/np.pi\n",
        "    angle[angle>0] += 180\n",
        "    for i in range(1, mag.shape[0]-1):\n",
        "        for j in range(1, mag.shape[1]-1):\n",
        "            if (0 <= angle[i, j] < 22.5) or (157.5 <= angle[i, j] < 180):\n",
        "                neighbor1 = mag[i, j + 1]\n",
        "                neighbor2 = mag[i, j - 1]\n",
        "            elif (22.5 <= angle[i, j] < 67.5):\n",
        "                neighbor1 = mag[i + 1, j]\n",
        "                neighbor2 = mag[i - 1, j]\n",
        "            elif (67.5 <= angle[i, j] < 112.5):\n",
        "                neighbor1 = mag[i + 1, j - 1]\n",
        "                neighbor2 = mag[i - 1, j + 1]\n",
        "            else:\n",
        "                neighbor1 = mag[i + 1, j + 1]\n",
        "                neighbor2 = mag[i - 1, j - 1]\n",
        "            if mag[i,j] >= neighbor1 and mag[i,j] >= neighbor2:\n",
        "                sup[i,j]=mag[i,j]\n",
        "            else:\n",
        "                sup[i,j]=0\n",
        "    \n",
        "    #thresholding\n",
        "    se=(mag >= 200)\n",
        "    we=(mag <= 100)\n",
        "\n",
        "    #hysteresis\n",
        "    result=se.copy()\n",
        "    for i in range(1, se.shape[0]-1):\n",
        "        for j in range(1, se.shape[1]-1):\n",
        "            if we[i,j]:\n",
        "                np.any(se[i-1:i+2, j-1:j+2])\n",
        "                result[i,j]=0\n",
        "            else:\n",
        "                result[i,j]=1\n",
        "\n",
        "    cv.imshow(\"sobel\", result.astype(np.uint8)*255)\n",
        "    cv.waitKey(0)\n",
        "\n",
        "canny(image)"
      ]
    },
    {
      "cell_type": "markdown",
      "metadata": {
        "id": "yIkqyboUDsWO"
      },
      "source": [
        "### Multi-Scale Feature Detection\n",
        "Create a function that applies multi-scale feature detection using the Laplacian of Gaussian (LoG) method. This function should take an image and a list of sigma values as input, and return an image or set of images showing detected features at the different scales."
      ]
    },
    {
      "cell_type": "code",
      "execution_count": null,
      "metadata": {
        "id": "oZ3prYBsDwPy"
      },
      "outputs": [
        {
          "data": {
            "text/plain": [
              "<function destroyAllWindows>"
            ]
          },
          "execution_count": 2,
          "metadata": {},
          "output_type": "execute_result"
        },
        {
          "ename": "",
          "evalue": "",
          "output_type": "error",
          "traceback": [
            "\u001b[1;31mThe Kernel crashed while executing code in the current cell or a previous cell. \n",
            "\u001b[1;31mPlease review the code in the cell(s) to identify a possible cause of the failure. \n",
            "\u001b[1;31mClick <a href='https://aka.ms/vscodeJupyterKernelCrash'>here</a> for more info. \n",
            "\u001b[1;31mView Jupyter <a href='command:jupyter.viewOutput'>log</a> for further details."
          ]
        }
      ],
      "source": [
        "import cv2 as cv\n",
        "\n",
        "image=cv.imread(\"face.jpeg\")\n",
        "sigma=[1,3,5]\n",
        "for i in sigma:\n",
        "    blur=cv.GaussianBlur(image, (3,3), i)\n",
        "    lap=cv.Laplacian(blur, cv.CV_64F)\n",
        "    cv.imshow(\"lap\", lap)\n",
        "    cv.waitKey(0)\n",
        "    cv.destroyAllWindows"
      ]
    },
    {
      "cell_type": "markdown",
      "metadata": {
        "id": "FCpFBjRSD8yh"
      },
      "source": [
        "## Bonus Question\n",
        "\n",
        "Do your Research on how can we make a 3d model from the Refined frames.  "
      ]
    },
    {
      "cell_type": "markdown",
      "metadata": {
        "id": "oVr5vt5FEQSr"
      },
      "source": [
        "We need a majority angle coverage of the object that we wanna make 3d model of. We pick out the common features from the series of images and contruct a 3d model based on this information."
      ]
    }
  ],
  "metadata": {
    "colab": {
      "provenance": []
    },
    "kernelspec": {
      "display_name": "Python 3",
      "name": "python3"
    },
    "language_info": {
      "codemirror_mode": {
        "name": "ipython",
        "version": 3
      },
      "file_extension": ".py",
      "mimetype": "text/x-python",
      "name": "python",
      "nbconvert_exporter": "python",
      "pygments_lexer": "ipython3",
      "version": "3.13.1"
    }
  },
  "nbformat": 4,
  "nbformat_minor": 0
}
