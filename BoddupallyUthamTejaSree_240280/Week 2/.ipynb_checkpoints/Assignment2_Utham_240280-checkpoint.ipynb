{
 "cells": [
  {
   "cell_type": "markdown",
   "metadata": {
    "id": "5mTHZEqh-cdR"
   },
   "source": [
    "Grayscale Conversion\n",
    "\n",
    "Write a Python script to read an image named image.jpg, convert it to grayscale, and save the result as output_gray.jpg."
   ]
  },
  {
   "cell_type": "code",
   "execution_count": 2,
   "metadata": {
    "id": "MaPflrkW-Zto"
   },
   "outputs": [
    {
     "data": {
      "text/plain": [
       "True"
      ]
     },
     "execution_count": 2,
     "metadata": {},
     "output_type": "execute_result"
    }
   ],
   "source": [
    "# Write your code here.\n",
    "import cv2\n",
    "import numpy as np\n",
    "\n",
    "img = cv2.imread('image.jpg')\n",
    "img = cv2.resize(img, (800, 600))\n",
    "gray_img = cv2.cvtColor(img, cv2.COLOR_BGR2GRAY)\n",
    "cv2.imwrite('C:/Users/Naveen/Winter Project - VisionCraft/VisionCraft-TheWinter-Challenge/BoddupallyUthamTejaSree_240280/output_gray.jpg', gray_img)"
   ]
  },
  {
   "cell_type": "markdown",
   "metadata": {
    "id": "XKHxTSHk-m_O"
   },
   "source": [
    "\n",
    "\n",
    "Grayscale Conversion.\n",
    "\n",
    "Write a Python script to read an image named image.jpg, convert it to grayscale, and save the result as output_gray.jpg."
   ]
  },
  {
   "cell_type": "code",
   "execution_count": 3,
   "metadata": {
    "id": "Zb2sLaXp-11r"
   },
   "outputs": [
    {
     "data": {
      "text/plain": [
       "True"
      ]
     },
     "execution_count": 3,
     "metadata": {},
     "output_type": "execute_result"
    }
   ],
   "source": [
    "# Write your code here.\n",
    "import cv2\n",
    "import numpy as np\n",
    "\n",
    "img = cv2.imread('image.jpg')\n",
    "img = cv2.resize(img, (800, 600))\n",
    "gray_img = cv2.cvtColor(img, cv2.COLOR_BGR2GRAY)\n",
    "cv2.imwrite('C:/Users/Naveen/Winter Project - VisionCraft/VisionCraft-TheWinter-Challenge/BoddupallyUthamTejaSree_240280/output_gray.jpg', gray_img)"
   ]
  },
  {
   "cell_type": "markdown",
   "metadata": {
    "id": "x8VlxABO-2A9"
   },
   "source": [
    "Capture and Save Webcam Frames.\n",
    "\n",
    "Write a Python script using cv2.VideoCapture() to:\n",
    "1. Continuously capture video frames from your webcam.\n",
    "\n",
    "2. Display each frame in a window.\n",
    "\n",
    "3. Save every 30th frame as an image in a folder called frames."
   ]
  },
  {
   "cell_type": "code",
   "execution_count": 10,
   "metadata": {
    "id": "ex9AgLXS_GN8"
   },
   "outputs": [
    {
     "name": "stdout",
     "output_type": "stream",
     "text": [
      "Saved frames/frame_30.jpg\n",
      "Saved frames/frame_60.jpg\n",
      "Saved frames/frame_90.jpg\n"
     ]
    }
   ],
   "source": [
    "# Write your code here.\n",
    "vid = cv2.VideoCapture(0)\n",
    "\n",
    "frame_count = 0\n",
    "while True:\n",
    "    ret, frame = vid.read()\n",
    "    frame_count += 1\n",
    "    cv2.imshow('Video frame', frame)\n",
    "    \n",
    "    if frame_count % 30 == 0:\n",
    "        filename = f'frames/frame_{frame_count}.jpg'  \n",
    "        cv2.imwrite(filename, frame)\n",
    "        print(f'Saved {filename}')\n",
    "    if cv2.waitKey(1) & 0xFF == ord('q'):\n",
    "        break\n",
    "\n",
    "vid.release()\n",
    "cv2.destroyAllWindows()"
   ]
  },
  {
   "cell_type": "markdown",
   "metadata": {
    "id": "2TLPG4qL_Gan"
   },
   "source": [
    "Write a Python script to perform the following tasks:\n",
    "\n",
    "1. Rotate an image named image.jpg by 90 degrees clockwise and save the result as rotated_image.jpg.\n",
    "\n",
    "\n",
    "2. Crop a central 200x200 region from the same image (original size is 800x600 pixels) and save it as cropped_image.jpg."
   ]
  },
  {
   "cell_type": "code",
   "execution_count": 13,
   "metadata": {
    "id": "xrumakIS_18v"
   },
   "outputs": [
    {
     "data": {
      "text/plain": [
       "True"
      ]
     },
     "execution_count": 13,
     "metadata": {},
     "output_type": "execute_result"
    }
   ],
   "source": [
    " # Write your code here.\n",
    "center = (img.shape[1] // 2, img.shape[0] // 2)\n",
    "rotation_matrix = cv2.getRotationMatrix2D(center, 45, 1.0)\n",
    "\n",
    "rotated_img = cv2.warpAffine(img, rotation_matrix, (img.shape[1], img.shape[0]))\n",
    "cv2.imwrite('rotated_image.jpg', rotated_img)\n",
    "\n",
    "cropped_img = rotated_img[300:500, 200:400]\n",
    "cv2.imwrite('cropped_image.jpg', cropped_img)"
   ]
  },
  {
   "cell_type": "markdown",
   "metadata": {
    "id": "vWzqg01C_2G4"
   },
   "source": [
    "Canny Edge Detection in Video\n",
    "\n",
    "Write a Python program to:\n",
    "\n",
    "Capture video frames continuously for 10 seconds.\n",
    "\n",
    "Apply the Canny edge detection algorithm to each frame.\n",
    "\n",
    "Display the original frame and its edges side by side in a single window.\n",
    "\n",
    "Stop capturing when the user presses the 'q' key."
   ]
  },
  {
   "cell_type": "code",
   "execution_count": 4,
   "metadata": {
    "id": "ZW4uyco4ACP2"
   },
   "outputs": [],
   "source": [
    " # Write your code here.\n",
    "import time\n",
    "vid = cv2.VideoCapture(0)\n",
    "\n",
    "start_time = time.time()\n",
    "\n",
    "while True:\n",
    "    ret, frame = vid.read()\n",
    "    \n",
    "    edge = cv2.Canny(frame, 100, 200)\n",
    "    combined = cv2.hconcat([frame, cv2.cvtColor(edge, cv2.COLOR_GRAY2BGR)])\n",
    "\n",
    "    cv2.imshow('Orginal and Edge_detected', combined)\n",
    "\n",
    "    if cv2.waitKey(1) & 0xFF == ord('q'):\n",
    "        break\n",
    "\n",
    "    if time.time() - start_time >= 10:\n",
    "        break\n",
    "\n",
    "vid.release()\n",
    "cv2.destroyAllWindows()"
   ]
  },
  {
   "cell_type": "markdown",
   "metadata": {
    "id": "X3lImf4FAC4B"
   },
   "source": [
    "Gaussian Blurring\n",
    "\n",
    "Write a Python script to Read an image named image.jpg Apply a Gaussian blur with a kernel size of 5x5 Save the blurred image as gaussian_blur.jpg."
   ]
  },
  {
   "cell_type": "code",
   "execution_count": 17,
   "metadata": {
    "id": "xC9VQ6_kAapt"
   },
   "outputs": [
    {
     "data": {
      "text/plain": [
       "True"
      ]
     },
     "execution_count": 17,
     "metadata": {},
     "output_type": "execute_result"
    }
   ],
   "source": [
    " # Write your code here.\n",
    "img = cv2.imread('image.jpg', cv2.IMREAD_GRAYSCALE)\n",
    "img = cv2.resize(img, (800, 600))\n",
    "# gaussian_kernel = np.array([\n",
    "    # [0.003, 0.013, 0.022, 0.013, 0.003],\n",
    "    # [0.013, 0.059, 0.097, 0.059, 0.013],\n",
    "    # [0.022, 0.097, 0.159, 0.097, 0.022],\n",
    "    # [0.013, 0.059, 0.097, 0.059, 0.013],\n",
    "    # [0.003, 0.013, 0.022, 0.013, 0.003]])\n",
    "blurred_img = cv2.GaussianBlur(img, (5, 5), 0)\n",
    "cv2.imwrite('Gaussian_blur.jpg', blurred_img)"
   ]
  },
  {
   "cell_type": "markdown",
   "metadata": {
    "id": "BQpzAKfPAa9C"
   },
   "source": [
    "Draw Shapes on Images\n",
    "\n",
    "Write a Python script to:\n",
    "    Read an image named image.jpg.\n",
    "    Draw the following on the image:\n",
    "        A blue circle with a radius of 50 pixels at the center.\n",
    "        A green rectangle of size 100x50 pixels in the bottom-right corner.\n",
    "    Save the modified image as shapes_drawn.jpg."
   ]
  },
  {
   "cell_type": "code",
   "execution_count": 18,
   "metadata": {
    "id": "py_dNtukAs14"
   },
   "outputs": [
    {
     "data": {
      "text/plain": [
       "True"
      ]
     },
     "execution_count": 18,
     "metadata": {},
     "output_type": "execute_result"
    }
   ],
   "source": [
    "# Write your code here.\n",
    "\n",
    "img = cv2.imread('image.jpg')\n",
    "img = cv2.resize(img, (800, 600))\n",
    "height, width = img.shape[:2]\n",
    "\n",
    "center = (width // 2, height // 2)\n",
    "cv2.circle(img, center, 50, (255, 0, 0), -1)\n",
    "\n",
    "top_left = (width - 100, height - 50)\n",
    "bottom_right = (width, height)\n",
    "cv2.rectangle(img, top_left, bottom_right, (0, 255, 0), -1)\n",
    "\n",
    "cv2.imwrite('shapes_drawn.jpg', img)"
   ]
  },
  {
   "cell_type": "markdown",
   "metadata": {
    "id": "VATqeumcAt3a"
   },
   "source": [
    "Image Color Space Conversion\n",
    "\n",
    "Write a Python script to:\n",
    "    Read an image named image.jpg.\n",
    "    Convert the image from BGR to HSV color space.\n",
    "    Save the result as hsv_image.jpg."
   ]
  },
  {
   "cell_type": "code",
   "execution_count": 20,
   "metadata": {
    "id": "CMnqcUhRBOy0"
   },
   "outputs": [
    {
     "data": {
      "text/plain": [
       "True"
      ]
     },
     "execution_count": 20,
     "metadata": {},
     "output_type": "execute_result"
    }
   ],
   "source": [
    "# Write your code here.\n",
    "img = cv2.imread('image.jpg')\n",
    "hsv_img = cv2.cvtColor(img, cv2.COLOR_BGR2HSV)\n",
    "cv2.imwrite('hsv_image.jpg', hsv_img)"
   ]
  },
  {
   "cell_type": "markdown",
   "metadata": {
    "id": "MZcUXAPZBPIw"
   },
   "source": [
    "Split Image into Color Channels\n",
    "\n",
    "Write a Python function to split an input image named colorful.jpg into its three color channels (Blue, Green, Red). Save each channel as a separate grayscale image."
   ]
  },
  {
   "cell_type": "code",
   "execution_count": 21,
   "metadata": {
    "id": "om_y1DT7BQA2"
   },
   "outputs": [
    {
     "name": "stdin",
     "output_type": "stream",
     "text": [
      "Enter the path of the image:  colourful.jpg\n"
     ]
    },
    {
     "data": {
      "text/plain": [
       "True"
      ]
     },
     "execution_count": 21,
     "metadata": {},
     "output_type": "execute_result"
    }
   ],
   "source": [
    "# Write your code here\n",
    "img_path = input('Enter the path of the image: ')\n",
    "img = cv2.imread(img_path)\n",
    "(blue, green, red) = cv2.split(img)\n",
    "\n",
    "cv2.imwrite('Blue_channel.jpg', blue)\n",
    "cv2.imwrite('Green_channel.jpg', green)\n",
    "cv2.imwrite('Red_channel.jpg', red)"
   ]
  },
  {
   "cell_type": "markdown",
   "metadata": {
    "id": "oEqKIeoGBjxb"
   },
   "source": [
    "Feel free to reach out to us."
   ]
  }
 ],
 "metadata": {
  "colab": {
   "authorship_tag": "ABX9TyMbfVC6cAWZFk9Wi7M9xCAC",
   "provenance": []
  },
  "kernelspec": {
   "display_name": "Python(food101)",
   "language": "python",
   "name": "food101"
  },
  "language_info": {
   "codemirror_mode": {
    "name": "ipython",
    "version": 3
   },
   "file_extension": ".py",
   "mimetype": "text/x-python",
   "name": "python",
   "nbconvert_exporter": "python",
   "pygments_lexer": "ipython3",
   "version": "3.13.0"
  }
 },
 "nbformat": 4,
 "nbformat_minor": 4
}
