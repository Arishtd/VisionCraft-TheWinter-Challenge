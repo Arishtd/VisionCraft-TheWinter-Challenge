{
  "cells": [
    {
      "cell_type": "markdown",
      "metadata": {
        "id": "93XQHTufB3_O"
      },
      "source": [
        "### Implement Edge Detection\n",
        "\n",
        "Write a Python function using OpenCV that takes an image file path as input, applies Canny edge detection on the image, and displays the original and edge-detected images side by side."
      ]
    },
    {
      "cell_type": "code",
      "execution_count": null,
      "metadata": {
        "id": "lVSmMDmk_s1R"
      },
      "outputs": [],
      "source": [
        "# Write Your code here.\n",
        "import cv2 as cv \n",
        "img=cv.imread(r\"images.jpg\")\n",
        "canny=cv.Canny(img,200,200)\n",
        "cv.imshow(\"Original\",img)\n",
        "cv.imshow(\"Edgy\",canny)\n",
        "cv.waitKey(0)  "
      ]
    },
    {
      "cell_type": "markdown",
      "metadata": {
        "id": "vRzoOxEvCPyl"
      },
      "source": [
        "### Face and Eye Detection\n",
        "\n",
        "Create a function that detects faces and eyes in a given image using Haar cascades in OpenCV. The function should draw rectangles around detected faces and eyes and display the output image."
      ]
    },
    {
      "cell_type": "code",
      "execution_count": null,
      "metadata": {
        "id": "e4irktxYCQKJ"
      },
      "outputs": [],
      "source": [
        "# Write Your code here.\n",
        "import cv2 as cv\n",
        "import numpy as np\n",
        "\n",
        "image = cv.imread(\"face.jpeg\")\n",
        "gray = cv.cvtColor(image, cv.COLOR_BGR2GRAY)\n",
        "facecascade = cv.CascadeClassifier(cv.data.haarcascades + \"haarcascade_frontalface_default.xml\")\n",
        "eyecascade = cv.CascadeClassifier(cv.data.haarcascades + \"haarcascade_eye.xml\")\n",
        "faces = facecascade.detectMultiScale(gray, 1.3, 5)\n",
        "\n",
        "for (x,y,w,h) in faces:\n",
        "    face_img = cv.rectangle(image,(x,y),(x+w,y+h),(255,0,0),2)\n",
        "    roi_gray = gray[y:y+h, x:x+w]\n",
        "    roi_color = face_img[y:y+h, x:x+w]\n",
        "    eyes = eyecascade.detectMultiScale(roi_gray)\n",
        "    for (ex,ey,ew,eh) in eyes:\n",
        "        cv.rectangle(roi_color,(ex,ey),(ex+ew,ey+eh),(0,255,0),2)\n",
        "\n",
        "cv.imshow(\"faces\", face_img)\n",
        "cv.waitKey(0)"
      ]
    },
    {
      "cell_type": "markdown",
      "metadata": {
        "id": "h59b-BnvCbWe"
      },
      "source": [
        "###Image Cropping Based on Facial Features\n",
        "\n",
        "Write a function that takes an image path as input and detects faces. If exactly one face is detected, return the cropped image of the face. Use Haar cascades for face detection."
      ]
    },
    {
      "cell_type": "code",
      "execution_count": null,
      "metadata": {
        "id": "sukHNd-sCbHe"
      },
      "outputs": [],
      "source": [
        "# Write Your code here.\n",
        "import cv2\n",
        "img = cv2.imread(r\"images.jpg\")\n",
        "\n",
        "\n",
        "gray = cv2.cvtColor(img,cv2.COLOR_BGR2GRAY)\n",
        "\n",
        "\n",
        "facecascade = cv2.CascadeClassifier(cv2.data.haarcascades + 'haarcascade_frontalface_default.xml')\n",
        "eyecascade = cv2.CascadeClassifier(cv2.data.haarcascades + 'haarcascade_eye.xml')\n",
        "\n",
        "\n",
        "faces = facecascade.detectMultiScale(gray, 1.3, 4)\n",
        "  \n",
        "if len(faces) ==1 :\n",
        "    for (x,y,w,h) in faces:\n",
        "        roi_color = img[y:y+h, x:x+w]\n",
        "        face_rect = facecascade.detectMultiScale(img,scaleFactor=1.2,minNeighbors=5)\n",
        "\n",
        "        for (x,y,w,h) in face_rect:\n",
        "          cropped=img[y:y+h, x:x+w]\n",
        "\n",
        "          cv2.imshow(\"Cropped face\",cropped)\n",
        "          cv2.waitKey(0) "
      ]
    },
    {
      "cell_type": "markdown",
      "metadata": {
        "id": "6zeYFj9nCnqX"
      },
      "source": [
        "### Feature Matching with ORB\n",
        "Create a Python script that uses ORB to detect and match features between two images. The script should display the matched keypoints on the output image."
      ]
    },
    {
      "cell_type": "code",
      "execution_count": null,
      "metadata": {
        "id": "qpczpHxCCr74"
      },
      "outputs": [],
      "source": [
        "# Write Your code here.\n",
        "import cv2 as cv\n",
        "import numpy as np\n",
        "\n",
        "image_1=cv.imread(\"images.jpg\")\n",
        "image_2=cv.imread(\"balloon_cool_guy.jpg\")\n",
        "gray_1=cv.cvtColor(image_1, cv.COLOR_BGR2GRAY)\n",
        "gray_2=cv.cvtColor(image_2, cv.COLOR_BGR2GRAY)\n",
        "\n",
        "orb=cv.ORB_create()\n",
        "k1, d1=orb.detectAndCompute(gray_1, None)\n",
        "k2, d2=orb.detectAndCompute(gray_2, None)\n",
        "\n",
        "bf=cv.BFMatcher()\n",
        "matches=bf.match(d1, d2)\n",
        "final=cv.drawMatches(image_1, k1, image_2, k2, matches[:40], None)\n",
        "final=cv.resize(final, (1000,500))\n",
        "\n",
        "cv.imshow(\"mathced keypoints\", final)\n",
        "cv.waitKey(0)"
      ]
    },
    {
      "cell_type": "markdown",
      "metadata": {
        "id": "3sUEn0RXCsiB"
      },
      "source": [
        "### Applying Gaussian Blur for Noise Reduction\n",
        "Write a function that applies a Gaussian blur to an image to reduce noise and displays both the original and blurred images."
      ]
    },
    {
      "cell_type": "code",
      "execution_count": null,
      "metadata": {
        "id": "3_lKp3bICzdl"
      },
      "outputs": [],
      "source": [
        "# Write Your code here.\n",
        "import cv2 as cv\n",
        "\n",
        "img=cv.imread(r\"images.jpg\")\n",
        "blur=cv.GaussianBlur(img,(11,11),0)\n",
        "cv.imshow(\"blurff\",blur)\n",
        "cv.imshow(\"original\",img)\n",
        "cv.waitKey(0)"
      ]
    },
    {
      "cell_type": "markdown",
      "metadata": {
        "id": "fidnIKLWCzCx"
      },
      "source": [
        "### Pyramid Transform for Image Scaling\n",
        "Create a function that creates a pyramid of images (both up and down) for a given image and displays the results."
      ]
    },
    {
      "cell_type": "code",
      "execution_count": null,
      "metadata": {
        "id": "ABndA3roC5fV"
      },
      "outputs": [],
      "source": [
        "# Write Your code here.\n",
        "import cv2 as cv\n",
        "\n",
        "def up(image):\n",
        "    l1=cv.pyrUp(image)\n",
        "    l2=cv.pyrUp(l1)\n",
        "    cv.imshow(\"Up_pyramid\", l2)\n",
        "    cv.waitKey(0)\n",
        "    cv.destroyAllWindows()\n",
        "\n",
        "def down(image):\n",
        "    l1=cv.pyrDown(image)\n",
        "    l2=cv.pyrDown(l1)\n",
        "    cv.imshow(\"Down_pyramid\", l2)\n",
        "    cv.waitKey(0)\n",
        "    cv.destroyAllWindows\n",
        "\n",
        "img=cv.imread(\"face.jpeg\")\n",
        "down(img)\n",
        "up(img)"
      ]
    },
    {
      "cell_type": "markdown",
      "metadata": {
        "id": "PHlKUjccC5La"
      },
      "source": [
        "### Implement Harris Corner Detection in Python\n",
        "Write a Python function using OpenCV that takes an image file as input and applies the Harris Corner Detection algorithm. Your function should display the original image with the detected corners marked. Include parameters to specify the block size, ksize, and free parameter for flexibility."
      ]
    },
    {
      "cell_type": "code",
      "execution_count": null,
      "metadata": {
        "id": "beKkD_y0C7Ke"
      },
      "outputs": [],
      "source": [
        "# Write Your code here.\n",
        "import numpy as np\n",
        "import cv2 as cv\n",
        " \n",
        "\n",
        "img = cv.imread(r\"images.jpg\")\n",
        "gray = cv.cvtColor(img,cv.COLOR_BGR2GRAY)\n",
        " \n",
        "gray = np.float32(gray)\n",
        "ds = cv.cornerHarris(gray,2,3,0.04)\n",
        " \n",
        "ds = cv.dilate(ds,None)\n",
        " \n",
        "img[ds>0.01*ds.max()]=[0,255,0] \n",
        " \n",
        "cv.imshow('ds',img)\n",
        "if cv.waitKey(0) & 0xff == 27:\n",
        "    cv.destroyAllWindows()"
      ]
    },
    {
      "cell_type": "markdown",
      "metadata": {
        "id": "46_GNSP5DE-Q"
      },
      "source": [
        "### SIFT Keypoint Detection and Description\n",
        "Create a function that reads an image, converts it to grayscale, and then applies the SIFT algorithm to detect keypoints and compute descriptors. Ensure the detected keypoints are visualized on the original image."
      ]
    },
    {
      "cell_type": "code",
      "execution_count": null,
      "metadata": {
        "id": "SNml8psQDJcb"
      },
      "outputs": [],
      "source": [
        "# Write Your code here.\n",
        "import cv2\n",
        " \n",
        "img = cv2.imread(r\"images.jpg\")\n",
        " \n",
        "\n",
        "gray= cv2.cvtColor(img,cv2.COLOR_BGR2GRAY)\n",
        " \n",
        "sift = cv2.SIFT_create()\n",
        "key = sift.detect(gray, None)\n",
        " \n",
        "\n",
        "img=cv2.drawKeypoints(gray ,key ,img ,flags=cv2.DRAW_MATCHES_FLAGS_DRAW_RICH_KEYPOINTS)\n",
        " \n",
        "cv2.imshow('image-with-keypoints.jpg', img)\n",
        "cv2.waitKey(0)"
      ]
    },
    {
      "cell_type": "markdown",
      "metadata": {
        "id": "E9Aa7newDJxY"
      },
      "source": [
        "### Feature Matching using ORB\n",
        "Develop a Python script that matches features between two images using the ORB algorithm. The script should display the matched features between the two images with lines connecting corresponding keypoints."
      ]
    },
    {
      "cell_type": "code",
      "execution_count": null,
      "metadata": {
        "id": "pSFtPxbWDRFz"
      },
      "outputs": [],
      "source": [
        "# Write Your code here."
      ]
    },
    {
      "cell_type": "markdown",
      "metadata": {
        "id": "JyuM-UuYDRbA"
      },
      "source": [
        "### Implement FAST Corner Detection\n",
        "Write a Python function to implement the FAST corner detection algorithm. The function should accept an image and return the image with detected keypoints highlighted."
      ]
    },
    {
      "cell_type": "code",
      "execution_count": null,
      "metadata": {
        "id": "4HgLq8f_DTnO"
      },
      "outputs": [],
      "source": [
        "# Write Your code here.v\n",
        "import numpy as np\n",
        "import cv2 as cv\n",
        "from matplotlib import pyplot as plt\n",
        "def myfun(path):\n",
        " img = cv.imread(path, cv.IMREAD_GRAYSCALE) \n",
        " \n",
        " fast = cv.FastFeatureDetector_create()\n",
        "\n",
        " kp = fast.detect(img,None)\n",
        " img2 = cv.drawKeypoints(img, kp, None, color=(255,0,0))\n",
        " return img2\n",
        "\n",
        "path=(r\"images.jpg\")\n",
        "myfun(path) "
      ]
    },
    {
      "cell_type": "markdown",
      "metadata": {
        "id": "MOJ-25wrDpiC"
      },
      "source": [
        "Tough questions"
      ]
    },
    {
      "cell_type": "markdown",
      "metadata": {
        "id": "tovusHoWDT6G"
      },
      "source": [
        "### Custom Canny Edge Detector Implementation\n",
        "Implement your own version of the Canny edge detection algorithm from scratch using Python (without using OpenCV functions). Your implementation should include:\n",
        "\n",
        "Gaussian filtering for noise reduction.\n",
        "Calculation of gradient magnitude and direction.\n",
        "Non-maximum suppression.\n",
        "Hysteresis thresholding. Your function should take an image as input and return an image with detected edges."
      ]
    },
    {
      "cell_type": "code",
      "execution_count": null,
      "metadata": {
        "id": "ICcFqoUyDr_b"
      },
      "outputs": [],
      "source": [
        "# Write Your code here.\n"
      ]
    },
    {
      "cell_type": "markdown",
      "metadata": {
        "id": "yIkqyboUDsWO"
      },
      "source": [
        "### Multi-Scale Feature Detection\n",
        "Create a function that applies multi-scale feature detection using the Laplacian of Gaussian (LoG) method. This function should take an image and a list of sigma values as input, and return an image or set of images showing detected features at the different scales."
      ]
    },
    {
      "cell_type": "code",
      "execution_count": null,
      "metadata": {
        "id": "oZ3prYBsDwPy"
      },
      "outputs": [],
      "source": [
        "# Write Your code here.\n"
      ]
    },
    {
      "cell_type": "markdown",
      "metadata": {
        "id": "FCpFBjRSD8yh"
      },
      "source": [
        "## Bonus Question\n",
        "\n",
        "Do your Research on how can we make a 3d model from the Refined frames.  "
      ]
    },
    {
      "cell_type": "code",
      "execution_count": null,
      "metadata": {
        "id": "oVr5vt5FEQSr"
      },
      "outputs": [],
      "source": [
        "### Write your answer here."
      ]
    }
  ],
  "metadata": {
    "colab": {
      "provenance": []
    },
    "kernelspec": {
      "display_name": "Python 3",
      "name": "python3"
    },
    "language_info": {
      "name": "python"
    }
  },
  "nbformat": 4,
  "nbformat_minor": 0
}
