{
 "cells": [
  {
   "cell_type": "markdown",
   "metadata": {},
   "source": [
    "## Importing Necessary Libraries"
   ]
  },
  {
   "cell_type": "code",
   "execution_count": null,
   "metadata": {},
   "outputs": [],
   "source": [
    "import cv2 as cv\n",
    "import os\n",
    "import numpy as np"
   ]
  },
  {
   "cell_type": "markdown",
   "metadata": {},
   "source": [
    "## Function to evaluate Frame Quality"
   ]
  },
  {
   "cell_type": "markdown",
   "metadata": {},
   "source": [
    "Evaluate the quality of a frame based on edge density and contour count.\n",
    "\n",
    "Parameters:\\\n",
    "frame (numpy.ndarray): The image frame to evaluate.\\\n",
    "edge_density_threshold (float): Minimum edge density ratio (edge pixels / total pixels).\\\n",
    "contour_count_threshold (int): Minimum number of contours required.\n",
    "\n",
    "Returns:\\\n",
    "bool: True if the frame is of good quality, False otherwise."
   ]
  },
  {
   "cell_type": "code",
   "execution_count": null,
   "metadata": {},
   "outputs": [],
   "source": [
    "def evaluate_frame_quality(frame, edge_density_threshold=0.02, contour_count_threshold=100):\n",
    "    gray = cv.cvtColor(frame, cv.COLOR_BGR2GRAY) #Converting to grayscale for further processing\n",
    "\n",
    "    # Detect edges using Canny\n",
    "    edges = cv.Canny(gray, 100, 200)\n",
    "    edge_pixels = np.sum(edges > 0) #Number of pixels detected by canny edge detector\n",
    "    total_pixels = gray.shape[0] * gray.shape[1] #Getting total by multiplying resolution\n",
    "    edge_density = edge_pixels / total_pixels\n",
    "\n",
    "    # Find contours\n",
    "    contours, _ = cv.findContours(edges, cv.RETR_EXTERNAL, cv.CHAIN_APPROX_SIMPLE)\n",
    "    contour_count = len(contours) #No. of contours\n",
    "\n",
    "    # Evaluate based on thresholds\n",
    "    return edge_density >= edge_density_threshold and contour_count >= contour_count_threshold \n",
    "    '''if the edge density is greater than or equal to the default edge density (0.02) and the contour count\n",
    "    is greater than or equal to the default contour threshold then it will return true which means the frame is of \n",
    "    good quality which we want'''"
   ]
  },
  {
   "cell_type": "markdown",
   "metadata": {},
   "source": [
    "## Extracting and Filtering needed Frames "
   ]
  },
  {
   "cell_type": "markdown",
   "metadata": {},
   "source": [
    "Extracts frames from a video, filters them based on quality, and saves high-quality frames.\n",
    "\n",
    "Parameters:\\\n",
    "video_path (str): Path to the input video file.\\\n",
    "output_folder (str): Folder to save filtered frames.\\\n",
    "frame_rate (int): Number of frames to extract per second."
   ]
  },
  {
   "cell_type": "code",
   "execution_count": null,
   "metadata": {},
   "outputs": [],
   "source": [
    "def extract_and_filter_frames(video_path, output_folder, frame_rate=2):\n",
    "    if not os.path.exists(output_folder): # If output folder doesn't exist then make one\n",
    "        os.makedirs(output_folder)\n",
    "\n",
    "    # Open video file\n",
    "    cap = cv.VideoCapture(video_path) \n",
    "    fps = int(cap.get(cv.CAP_PROP_FPS)) # Getting FPS of the video\n",
    "    frame_count = 0\n",
    "    success, frame = cap.read()\n",
    "\n",
    "    while success:\n",
    "        # Extract frames at the desired frame rate\n",
    "        if frame_count % (fps // frame_rate) == 0:\n",
    "            if evaluate_frame_quality(frame):  # Filter frame based on quality\n",
    "                frame_name = f\"{output_folder}/frame_{frame_count:04d}.jpg\"\n",
    "                cv.imwrite(frame_name, frame)  # Save high-quality frame\n",
    "\n",
    "        success, frame = cap.read()\n",
    "        frame_count += 1\n",
    "\n",
    "    cap.release()\n",
    "    print(f\"High-quality frames saved to {output_folder}\") # Confirmation that every frame saved successfully"
   ]
  },
  {
   "cell_type": "markdown",
   "metadata": {},
   "source": [
    "## Final Implementation"
   ]
  },
  {
   "cell_type": "code",
   "execution_count": null,
   "metadata": {},
   "outputs": [],
   "source": [
    "video_path = 'Video.mp4'  # Path to the video file\n",
    "os.makedirs(\"filtered_frames\",exist_ok=True)\n",
    "output_folder = 'filtered_frames'  # Folder to save high-quality frames\n",
    "frame_rate = 10  # Extract 10 frames per second\n",
    "\n",
    "extract_and_filter_frames(video_path, output_folder, frame_rate) # Finally filtering and saving good frames"
   ]
  }
 ],
 "metadata": {
  "kernelspec": {
   "display_name": "Python 3",
   "language": "python",
   "name": "python3"
  },
  "language_info": {
   "codemirror_mode": {
    "name": "ipython",
    "version": 3
   },
   "file_extension": ".py",
   "mimetype": "text/x-python",
   "name": "python",
   "nbconvert_exporter": "python",
   "pygments_lexer": "ipython3",
   "version": "3.10.4"
  }
 },
 "nbformat": 4,
 "nbformat_minor": 2
}
