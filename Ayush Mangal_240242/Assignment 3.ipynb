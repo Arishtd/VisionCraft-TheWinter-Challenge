{
  "cells": [
    {
      "cell_type": "markdown",
      "metadata": {
        "id": "93XQHTufB3_O"
      },
      "source": [
        "### Implement Edge Detection\n",
        "\n",
        "Write a Python function using OpenCV that takes an image file path as input, applies Canny edge detection on the image, and displays the original and edge-detected images side by side."
      ]
    },
    {
      "cell_type": "code",
      "execution_count": 1,
      "metadata": {},
      "outputs": [],
      "source": [
        "import cv2\n",
        "import numpy as np\n",
        "from matplotlib import pyplot as plt"
      ]
    },
    {
      "cell_type": "code",
      "execution_count": 2,
      "metadata": {
        "id": "lVSmMDmk_s1R"
      },
      "outputs": [],
      "source": [
        "def edge_detection(image_path):\n",
        "    image = cv2.imread(image_path, cv2.IMREAD_GRAYSCALE)\n",
        "    edges = cv2.Canny(image, 100, 200)\n",
        "    \n",
        "    plt.figure(figsize=(10, 5))\n",
        "    plt.subplot(121), plt.imshow(image, cmap='gray'), plt.title('Original Image')\n",
        "    plt.subplot(122), plt.imshow(edges, cmap='gray'), plt.title('Edge Detected Image')\n",
        "    plt.show()"
      ]
    },
    {
      "cell_type": "markdown",
      "metadata": {
        "id": "vRzoOxEvCPyl"
      },
      "source": [
        "### Face and Eye Detection\n",
        "\n",
        "Create a function that detects faces and eyes in a given image using Haar cascades in OpenCV. The function should draw rectangles around detected faces and eyes and display the output image."
      ]
    },
    {
      "cell_type": "code",
      "execution_count": 4,
      "metadata": {
        "id": "e4irktxYCQKJ"
      },
      "outputs": [],
      "source": [
        "def detect_faces_and_eyes(image_path):\n",
        "    face_cascade = cv2.CascadeClassifier(cv2.data.haarcascades + 'haarcascade_frontalface_default.xml')\n",
        "    eye_cascade = cv2.CascadeClassifier(cv2.data.haarcascades + 'haarcascade_eye.xml')\n",
        "\n",
        "    image = cv2.imread(image_path)\n",
        "    gray = cv2.cvtColor(image, cv2.COLOR_BGR2GRAY)\n",
        "\n",
        "    faces = face_cascade.detectMultiScale(gray, 1.3, 5)\n",
        "    for (x, y, w, h) in faces:\n",
        "        cv2.rectangle(image, (x, y), (x + w, y + h), (255, 0, 0), 2)\n",
        "        roi_gray = gray[y:y + h, x:x + w]\n",
        "        roi_color = image[y:y + h, x:x + w]\n",
        "        eyes = eye_cascade.detectMultiScale(roi_gray)\n",
        "        for (ex, ey, ew, eh) in eyes:\n",
        "            cv2.rectangle(roi_color, (ex, ey), (ex + ew, ey + eh), (0, 255, 0), 2)\n",
        "\n",
        "    cv2.imshow('Faces and Eyes', image)\n",
        "    cv2.waitKey(0)\n",
        "    cv2.destroyAllWindows()"
      ]
    },
    {
      "cell_type": "markdown",
      "metadata": {
        "id": "h59b-BnvCbWe"
      },
      "source": [
        "###Image Cropping Based on Facial Features\n",
        "\n",
        "Write a function that takes an image path as input and detects faces. If exactly one face is detected, return the cropped image of the face. Use Haar cascades for face detection."
      ]
    },
    {
      "cell_type": "code",
      "execution_count": 5,
      "metadata": {
        "id": "sukHNd-sCbHe"
      },
      "outputs": [],
      "source": [
        "def crop_face(image_path):\n",
        "    face_cascade = cv2.CascadeClassifier(cv2.data.haarcascades + 'haarcascade_frontalface_default.xml')\n",
        "    image = cv2.imread(image_path)\n",
        "    gray = cv2.cvtColor(image, cv2.COLOR_BGR2GRAY)\n",
        "\n",
        "    faces = face_cascade.detectMultiScale(gray, 1.3, 5)\n",
        "    if len(faces) == 1:\n",
        "        x, y, w, h = faces[0]\n",
        "        cropped_face = image[y:y + h, x:x + w]\n",
        "        cv2.imshow('cropped_face',cropped_face)\n",
        "        cv2.waitKey(0)\n",
        "        cv2.destroyAllWindows()\n",
        "    else:\n",
        "        print(\"Can't crop.\")\n",
        "        return None"
      ]
    },
    {
      "cell_type": "markdown",
      "metadata": {
        "id": "6zeYFj9nCnqX"
      },
      "source": [
        "### Feature Matching with ORB\n",
        "Create a Python script that uses ORB to detect and match features between two images. The script should display the matched keypoints on the output image."
      ]
    },
    {
      "cell_type": "code",
      "execution_count": 6,
      "metadata": {
        "id": "qpczpHxCCr74"
      },
      "outputs": [],
      "source": [
        "def orb_matching(image1_path, image2_path):\n",
        "    img1 = cv2.imread(image1_path, cv2.IMREAD_GRAYSCALE)\n",
        "    img2 = cv2.imread(image2_path, cv2.IMREAD_GRAYSCALE)\n",
        "\n",
        "    orb = cv2.ORB_create()\n",
        "    keypoints1, descriptors1 = orb.detectAndCompute(img1, None)\n",
        "    keypoints2, descriptors2 = orb.detectAndCompute(img2, None)\n",
        "\n",
        "    bf = cv2.BFMatcher(cv2.NORM_HAMMING, crossCheck=True)\n",
        "    matches = bf.match(descriptors1, descriptors2)\n",
        "    matches = sorted(matches, key=lambda x: x.distance)\n",
        "\n",
        "    result = cv2.drawMatches(img1, keypoints1, img2, keypoints2, matches[:10], None, flags=2)\n",
        "    final_img = cv2.resize(result, (1000,650))\n",
        "    cv2.imshow(\"Matches\", final_img)\n",
        "    cv2.waitKey(0)"
      ]
    },
    {
      "cell_type": "markdown",
      "metadata": {
        "id": "3sUEn0RXCsiB"
      },
      "source": [
        "### Applying Gaussian Blur for Noise Reduction\n",
        "Write a function that applies a Gaussian blur to an image to reduce noise and displays both the original and blurred images."
      ]
    },
    {
      "cell_type": "code",
      "execution_count": 8,
      "metadata": {
        "id": "3_lKp3bICzdl"
      },
      "outputs": [],
      "source": [
        "def gaussian_blur(image_path):\n",
        "    image = cv2.imread(image_path)\n",
        "    blur = cv2.GaussianBlur(image, (5, 5), 0)\n",
        "\n",
        "    plt.figure(figsize=(10, 5))\n",
        "    plt.subplot(121), plt.imshow(cv2.cvtColor(image, cv2.COLOR_BGR2RGB)), plt.title('Original Image')\n",
        "    plt.subplot(122), plt.imshow(cv2.cvtColor(blur, cv2.COLOR_BGR2RGB)), plt.title('Blurred Image')\n",
        "    plt.show()"
      ]
    },
    {
      "cell_type": "markdown",
      "metadata": {
        "id": "fidnIKLWCzCx"
      },
      "source": [
        "### Pyramid Transform for Image Scaling\n",
        "Create a function that creates a pyramid of images (both up and down) for a given image and displays the results."
      ]
    },
    {
      "cell_type": "code",
      "execution_count": 14,
      "metadata": {
        "id": "ABndA3roC5fV"
      },
      "outputs": [],
      "source": [
        "def pyramid_transform(image_path):\n",
        "    image = cv2.imread(image_path)\n",
        "\n",
        "    lower_res = cv2.pyrDown(image)\n",
        "    higher_res = cv2.pyrUp(image)\n",
        "\n",
        "    cv2.imshow('Original Image', image)\n",
        "    cv2.imshow('Lower Resolution', lower_res)\n",
        "    cv2.imshow('Higher Resolution', higher_res)\n",
        "    cv2.waitKey(0)\n",
        "    cv2.destroyAllWindows()"
      ]
    },
    {
      "cell_type": "markdown",
      "metadata": {
        "id": "PHlKUjccC5La"
      },
      "source": [
        "### Implement Harris Corner Detection in Python\n",
        "Write a Python function using OpenCV that takes an image file as input and applies the Harris Corner Detection algorithm. Your function should display the original image with the detected corners marked. Include parameters to specify the block size, ksize, and free parameter for flexibility."
      ]
    },
    {
      "cell_type": "code",
      "execution_count": 12,
      "metadata": {
        "id": "beKkD_y0C7Ke"
      },
      "outputs": [],
      "source": [
        "def harris_corner_detection(image_path, block_size, ksize, k):\n",
        "    image = cv2.imread(image_path)\n",
        "    gray = cv2.cvtColor(image, cv2.COLOR_BGR2GRAY)\n",
        "    gray = np.float32(gray)\n",
        "\n",
        "    dst = cv2.cornerHarris(gray, block_size, ksize, k)\n",
        "    dst = cv2.dilate(dst, None)\n",
        "\n",
        "    image[dst > 0.01 * dst.max()] = [0, 0, 255]\n",
        "    cv2.imshow(\"Harris_Corner_Detected\", image)\n",
        "    cv2.waitKey(0)"
      ]
    },
    {
      "cell_type": "markdown",
      "metadata": {
        "id": "46_GNSP5DE-Q"
      },
      "source": [
        "### SIFT Keypoint Detection and Description\n",
        "Create a function that reads an image, converts it to grayscale, and then applies the SIFT algorithm to detect keypoints and compute descriptors. Ensure the detected keypoints are visualized on the original image."
      ]
    },
    {
      "cell_type": "code",
      "execution_count": 10,
      "metadata": {
        "id": "SNml8psQDJcb"
      },
      "outputs": [],
      "source": [
        "def sift_keypoint_detection(image_path):\n",
        "    image = cv2.imread(image_path)\n",
        "    gray = cv2.cvtColor(image, cv2.COLOR_BGR2GRAY)\n",
        "\n",
        "    sift = cv2.SIFT_create()\n",
        "    keypoints, descriptors = sift.detectAndCompute(gray, None)\n",
        "\n",
        "    result = cv2.drawKeypoints(image, keypoints, None)\n",
        "    cv2.imshow(\"SIFT\", result)\n",
        "    cv2.waitKey(0)"
      ]
    },
    {
      "cell_type": "markdown",
      "metadata": {
        "id": "E9Aa7newDJxY"
      },
      "source": [
        "### Feature Matching using ORB\n",
        "Develop a Python script that matches features between two images using the ORB algorithm. The script should display the matched features between the two images with lines connecting corresponding keypoints."
      ]
    },
    {
      "cell_type": "code",
      "execution_count": 11,
      "metadata": {
        "id": "pSFtPxbWDRFz"
      },
      "outputs": [],
      "source": [
        "def orb_matching(image1_path, image2_path):\n",
        "    img1 = cv2.imread(image1_path, cv2.IMREAD_GRAYSCALE)\n",
        "    img2 = cv2.imread(image2_path, cv2.IMREAD_GRAYSCALE)\n",
        "\n",
        "    orb = cv2.ORB_create()\n",
        "    keypoints1, descriptors1 = orb.detectAndCompute(img1, None)\n",
        "    keypoints2, descriptors2 = orb.detectAndCompute(img2, None)\n",
        "\n",
        "    bf = cv2.BFMatcher(cv2.NORM_HAMMING, crossCheck=True)\n",
        "    matches = bf.match(descriptors1, descriptors2)\n",
        "    matches = sorted(matches, key=lambda x: x.distance)\n",
        "\n",
        "    result = cv2.drawMatches(img1, keypoints1, img2, keypoints2, matches[:10], None, flags=2)\n",
        "    final_img = cv2.resize(result, (1000,650))\n",
        "    cv2.imshow(\"Matches\", final_img)\n",
        "    cv2.waitKey(0)"
      ]
    },
    {
      "cell_type": "markdown",
      "metadata": {
        "id": "JyuM-UuYDRbA"
      },
      "source": [
        "### Implement FAST Corner Detection\n",
        "Write a Python function to implement the FAST corner detection algorithm. The function should accept an image and return the image with detected keypoints highlighted."
      ]
    },
    {
      "cell_type": "code",
      "execution_count": 13,
      "metadata": {
        "id": "4HgLq8f_DTnO"
      },
      "outputs": [],
      "source": [
        "def fast_corner_detection(image_path):\n",
        "    image = cv2.imread(image_path, cv2.IMREAD_GRAYSCALE)\n",
        "    fast = cv2.FastFeatureDetector_create()\n",
        "\n",
        "    keypoints = fast.detect(image, None)\n",
        "    result = cv2.drawKeypoints(image, keypoints, None, color=(255, 0, 0))\n",
        "    cv2.imshow(\"Fast_Corner_Detected\", result)\n",
        "    cv2.waitKey(0)"
      ]
    },
    {
      "cell_type": "markdown",
      "metadata": {
        "id": "MOJ-25wrDpiC"
      },
      "source": [
        "Tough questions"
      ]
    },
    {
      "cell_type": "markdown",
      "metadata": {
        "id": "tovusHoWDT6G"
      },
      "source": [
        "### Custom Canny Edge Detector Implementation\n",
        "Implement your own version of the Canny edge detection algorithm from scratch using Python (without using OpenCV functions). Your implementation should include:\n",
        "\n",
        "Gaussian filtering for noise reduction.\n",
        "Calculation of gradient magnitude and direction.\n",
        "Non-maximum suppression.\n",
        "Hysteresis thresholding. Your function should take an image as input and return an image with detected edges."
      ]
    },
    {
      "cell_type": "code",
      "execution_count": null,
      "metadata": {
        "id": "ICcFqoUyDr_b"
      },
      "outputs": [],
      "source": [
        "# Write Your code here."
      ]
    },
    {
      "cell_type": "markdown",
      "metadata": {
        "id": "yIkqyboUDsWO"
      },
      "source": [
        "### Multi-Scale Feature Detection\n",
        "Create a function that applies multi-scale feature detection using the Laplacian of Gaussian (LoG) method. This function should take an image and a list of sigma values as input, and return an image or set of images showing detected features at the different scales."
      ]
    },
    {
      "cell_type": "code",
      "execution_count": null,
      "metadata": {
        "id": "oZ3prYBsDwPy"
      },
      "outputs": [],
      "source": [
        "# Write Your code here."
      ]
    },
    {
      "cell_type": "markdown",
      "metadata": {
        "id": "FCpFBjRSD8yh"
      },
      "source": [
        "## Bonus Question\n",
        "\n",
        "Do your Research on how can we make a 3d model from the Refined frames.  "
      ]
    },
    {
      "cell_type": "code",
      "execution_count": null,
      "metadata": {
        "id": "oVr5vt5FEQSr"
      },
      "outputs": [],
      "source": [
        "### Write your answer here."
      ]
    }
  ],
  "metadata": {
    "colab": {
      "provenance": []
    },
    "kernelspec": {
      "display_name": "Python 3",
      "name": "python3"
    },
    "language_info": {
      "codemirror_mode": {
        "name": "ipython",
        "version": 3
      },
      "file_extension": ".py",
      "mimetype": "text/x-python",
      "name": "python",
      "nbconvert_exporter": "python",
      "pygments_lexer": "ipython3",
      "version": "3.12.4"
    }
  },
  "nbformat": 4,
  "nbformat_minor": 0
}
