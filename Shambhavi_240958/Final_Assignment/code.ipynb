{
 "cells": [
  {
   "cell_type": "code",
   "execution_count": null,
   "metadata": {},
   "outputs": [],
   "source": [
    "import cv2 \n",
    "import math \n",
    "cap=cv2.VideoCapture('Video.mp4') \n",
    "nframes=0 \n",
    "while True: \n",
    "    success, frame=cap.read() \n",
    "    if not success: \n",
    "        break \n",
    "    nframes+=1 \n",
    "n_extract=70 \n",
    "n=math.ceil(nframes / n_extract) \n",
    "cap.set(cv2.CAP_PROP_POS_FRAMES, 0) \n",
    "extracted_frames=[] \n",
    "for i in range(n_extract): \n",
    "    best_frame=None \n",
    "    best_score=0 \n",
    "    for j in range(i*n, (i+1)*n): \n",
    "        success, frame=cap.read() \n",
    "        if not success: \n",
    "            break \n",
    "        gray=cv2.cvtColor(frame, cv2.COLOR_BGR2GRAY) \n",
    "        blurred=cv2.GaussianBlur(gray, (5, 5), 0) \n",
    "        edges=cv2.Canny(blurred,100,160) \n",
    "        contours, _=cv2.findContours(edges, cv2.RETR_EXTERNAL, cv2.CHAIN_APPROX_SIMPLE) \n",
    "        total_contour_area=sum(cv2.contourArea(cnt) for cnt in contours if cv2.contourArea(cnt) > 100) \n",
    "        if total_contour_area>best_score: \n",
    "            best_frame=frame \n",
    "            best_score=total_contour_area \n",
    "    if best_frame is not None: \n",
    "        extracted_frames.append(best_frame) \n",
    "    if len(extracted_frames)>=n_extract: \n",
    "        break \n",
    "j=1 \n",
    "cap.release() \n",
    "for i in extracted_frames: \n",
    "    file=f\"frame_{j}.jpg\" \n",
    "    cv2.imwrite(file,i) \n",
    "    print(f\"Saved frame {j}: {file}\") \n",
    "    j+=1"
   ]
  }
 ],
 "metadata": {
  "kernelspec": {
   "display_name": "Python 3",
   "language": "python",
   "name": "python3"
  },
  "language_info": {
   "codemirror_mode": {
    "name": "ipython",
    "version": 3
   },
   "file_extension": ".py",
   "mimetype": "text/x-python",
   "name": "python",
   "nbconvert_exporter": "python",
   "pygments_lexer": "ipython3",
   "version": "3.12.8"
  }
 },
 "nbformat": 4,
 "nbformat_minor": 2
}
