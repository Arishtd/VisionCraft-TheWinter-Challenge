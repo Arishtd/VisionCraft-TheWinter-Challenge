{
  "cells": [
    {
      "cell_type": "markdown",
      "metadata": {},
      "source": [
        "Code to extract frames from a video and construct a 3D model using meshroom"
      ]
    },
    {
      "cell_type": "markdown",
      "metadata": {},
      "source": [
        "Importing the necessary libraries"
      ]
    },
    {
      "cell_type": "code",
      "execution_count": 50,
      "metadata": {
        "id": "eMsXQnMQa_dJ"
      },
      "outputs": [],
      "source": [
        "import os"
      ]
    },
    {
      "cell_type": "code",
      "execution_count": 51,
      "metadata": {
        "id": "Ft8zWOL0bMjl"
      },
      "outputs": [],
      "source": [
        "import cv2 as cv\n",
        "import matplotlib.pyplot as plt\n",
        "import numpy as np"
      ]
    },
    {
      "cell_type": "markdown",
      "metadata": {},
      "source": [
        "Lets check if the video is available"
      ]
    },
    {
      "cell_type": "code",
      "execution_count": 52,
      "metadata": {
        "colab": {
          "base_uri": "https://localhost:8080/"
        },
        "id": "883JZQoObU7_",
        "outputId": "7f4c3d8a-9698-4f5f-8c77-82d9c322d1e4"
      },
      "outputs": [
        {
          "name": "stdout",
          "output_type": "stream",
          "text": [
            "True\n"
          ]
        }
      ],
      "source": [
        "video=cv.VideoCapture('finalbottle.mp4')\n",
        "success,frame=video.read()\n",
        "print (success)"
      ]
    },
    {
      "cell_type": "markdown",
      "metadata": {},
      "source": [
        "This is the main portion of the code. It takes frames from the video and applies edge and contour detection on its grayscale version. An image quality score is calculated comprising the number of contours and edges detected (and normalized). 60 images with higher scores are chosen and then put into meshroom for generating the 3D model."
      ]
    },
    {
      "cell_type": "code",
      "execution_count": 53,
      "metadata": {
        "colab": {
          "base_uri": "https://localhost:8080/"
        },
        "id": "EElrcVsrbYYp",
        "outputId": "bc39b614-bc50-433b-de7c-fba506ae0d77"
      },
      "outputs": [
        {
          "name": "stdout",
          "output_type": "stream",
          "text": [
            "End of video or error reading.\n",
            "no of frames detected= 60\n",
            "1863\n"
          ]
        }
      ],
      "source": [
        "count=0\n",
        "read=0\n",
        "while video.isOpened():\n",
        "  success,frame=video.read()\n",
        "  if not success:\n",
        "    print(\"End of video or error reading.\")\n",
        "    break\n",
        "  read+=1\n",
        "  os.makedirs('FramesF2', exist_ok=True)\n",
        "  #frame=cv.GaussianBlur(frame, (3,3), cv.BORDER_DEFAULT)\n",
        "  gray = cv.cvtColor(frame, cv.COLOR_BGR2GRAY)\n",
        "  edges = cv.Canny(gray, 100, 200)\n",
        "  contours, _ = cv.findContours(edges, cv.RETR_EXTERNAL, cv.CHAIN_APPROX_SIMPLE)\n",
        "  score = len(contours) + np.sum(edges) / 255\n",
        "  if score > 2000 and count < 60 and read%19==0:\n",
        "       count+=1\n",
        "       frame_path=os.path.join('FramesF2', f'Frame{count}.jpg')\n",
        "       cv.imwrite(frame_path, frame)\n",
        "  if cv.waitKey(1) & 0xFF == ord('q'):\n",
        "    break\n",
        "video.release()\n",
        "cv.destroyAllWindows()\n",
        "print (\"no of frames detected=\", count)\n",
        "print (read)"
      ]
    }
  ],
  "metadata": {
    "colab": {
      "provenance": []
    },
    "kernelspec": {
      "display_name": "Python 3",
      "name": "python3"
    },
    "language_info": {
      "codemirror_mode": {
        "name": "ipython",
        "version": 3
      },
      "file_extension": ".py",
      "mimetype": "text/x-python",
      "name": "python",
      "nbconvert_exporter": "python",
      "pygments_lexer": "ipython3",
      "version": "3.13.1"
    }
  },
  "nbformat": 4,
  "nbformat_minor": 0
}
