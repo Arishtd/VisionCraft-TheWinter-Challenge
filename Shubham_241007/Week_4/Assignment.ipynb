{
 "cells": [
  {
   "cell_type": "code",
   "execution_count": 1,
   "metadata": {},
   "outputs": [],
   "source": [
    "#import necessary libraries\n",
    "import numpy as np\n",
    "import cv2 as cv\n",
    "import os\n",
    "import pandas as pd"
   ]
  },
  {
   "cell_type": "code",
   "execution_count": 2,
   "metadata": {},
   "outputs": [],
   "source": [
    "#importing video\n",
    "vid = cv.VideoCapture('Vid_2.mp4')\n",
    "#Video details\n",
    "second=15\n",
    "fps=30\n",
    "#define variables required\n",
    "cut = 0\n",
    "currentframe = 0\n",
    "frame_name = 0\n",
    "data = []\n",
    "#create frame folder\n",
    "if not os.path.exists('frames'):\n",
    "    os.makedirs(\"frames\")\n",
    "#frame extraction\n",
    "while True:\n",
    "    IsTrue, frame = vid.read()\n",
    "    \n",
    "    cut +=(1/30)\n",
    "    #details for frame extraction\n",
    "    if (currentframe%6 ==0):\n",
    "        cv.imwrite('frames/frame'+str(frame_name)+'.jpg',frame)\n",
    "        frame_name += 1\n",
    "        blur = cv.blur(frame,(3,3),cv.BORDER_DEFAULT)\n",
    "        canny = cv.Canny(blur,125,175)\n",
    "        contours, hierarachies = cv.findContours(canny,cv.RETR_LIST,cv.CHAIN_APPROX_NONE)\n",
    "        data.append(len(contours))\n",
    "    \n",
    "    currentframe+=1\n",
    "\n",
    "    if cv.waitKey(20) & 0xFF == ord('x'):\n",
    "        break\n",
    "    #to avoid error or to just take a particular length of video\n",
    "    elif cut>=(second):\n",
    "        break\n",
    "\n",
    "vid.release()\n",
    "cv.destroyAllWindows()"
   ]
  },
  {
   "cell_type": "code",
   "execution_count": 4,
   "metadata": {},
   "outputs": [
    {
     "name": "stdout",
     "output_type": "stream",
     "text": [
      "420\n"
     ]
    }
   ],
   "source": [
    "#average contour length\n",
    "avg = int(np.average(data))\n",
    "print(avg)\n",
    "count =-1"
   ]
  },
  {
   "cell_type": "code",
   "execution_count": 5,
   "metadata": {},
   "outputs": [
    {
     "name": "stdout",
     "output_type": "stream",
     "text": [
      "Moved: frame0.jpg\n",
      "Moved: frame1.jpg\n",
      "Moved: frame2.jpg\n",
      "Moved: frame3.jpg\n",
      "Moved: frame4.jpg\n",
      "Moved: frame5.jpg\n",
      "Moved: frame6.jpg\n",
      "Moved: frame7.jpg\n",
      "Moved: frame8.jpg\n",
      "Moved: frame9.jpg\n",
      "Moved: frame10.jpg\n",
      "Moved: frame11.jpg\n",
      "Moved: frame12.jpg\n",
      "Moved: frame13.jpg\n",
      "Moved: frame14.jpg\n",
      "Moved: frame15.jpg\n",
      "Moved: frame16.jpg\n",
      "Moved: frame17.jpg\n",
      "Moved: frame18.jpg\n",
      "Moved: frame19.jpg\n",
      "Moved: frame20.jpg\n",
      "Moved: frame21.jpg\n",
      "Moved: frame22.jpg\n",
      "Moved: frame23.jpg\n",
      "Moved: frame24.jpg\n",
      "Moved: frame25.jpg\n",
      "Moved: frame26.jpg\n",
      "Moved: frame27.jpg\n",
      "Moved: frame28.jpg\n",
      "Moved: frame29.jpg\n",
      "Moved: frame30.jpg\n",
      "Moved: frame31.jpg\n",
      "Moved: frame36.jpg\n",
      "Moved: frame37.jpg\n",
      "Moved: frame38.jpg\n",
      "Moved: frame39.jpg\n",
      "Moved: frame40.jpg\n",
      "Moved: frame41.jpg\n",
      "Moved: frame42.jpg\n",
      "Moved: frame43.jpg\n",
      "Moved: frame92.jpg\n",
      "Moved: frame93.jpg\n",
      "Moved: frame94.jpg\n",
      "Moved: frame95.jpg\n",
      "Moved: frame96.jpg\n",
      "Moved: frame97.jpg\n",
      "Moved: frame98.jpg\n",
      "Moved: frame99.jpg\n",
      "Moved: frame100.jpg\n",
      "Moved: frame101.jpg\n",
      "Moved: frame102.jpg\n",
      "Moved: frame103.jpg\n",
      "Moved: frame104.jpg\n",
      "Moved: frame105.jpg\n",
      "Moved: frame106.jpg\n",
      "Moved: frame107.jpg\n",
      "Moved: frame108.jpg\n",
      "Moved: frame109.jpg\n",
      "Moved: frame110.jpg\n",
      "Moved: frame111.jpg\n",
      "Moved: frame112.jpg\n",
      "Moved: frame113.jpg\n",
      "Moved: frame114.jpg\n",
      "Moved: frame132.jpg\n",
      "Moved: frame133.jpg\n",
      "Moved: frame134.jpg\n",
      "Moved: frame135.jpg\n",
      "Moved: frame136.jpg\n",
      "Moved: frame137.jpg\n",
      "Moved: frame138.jpg\n"
     ]
    }
   ],
   "source": [
    "#filtering frames\n",
    "\n",
    "#create folder for filtered frames\n",
    "if not os.path.exists('sel_frames'):\n",
    "    os.makedirs(\"sel_frames\")\n",
    "    source_folder = 'frames'\n",
    "    destination_folder = 'sel_frames'\n",
    "for i in data:\n",
    "    count+=1\n",
    "    if i >= avg:\n",
    "    \n",
    "        file = f\"frame{count}.jpg\"\n",
    "\n",
    "        source_path = os.path.join(source_folder, file)\n",
    "        destination_path = os.path.join(destination_folder, file)\n",
    "        \n",
    "        if os.path.exists(source_path):\n",
    "            os.rename(source_path, destination_path)\n",
    "            print(f\"Moved: {file}\")\n",
    "        else:\n",
    "            print(f\"File not found: {file}\")\n"
   ]
  }
 ],
 "metadata": {
  "kernelspec": {
   "display_name": "Python 3",
   "language": "python",
   "name": "python3"
  },
  "language_info": {
   "codemirror_mode": {
    "name": "ipython",
    "version": 3
   },
   "file_extension": ".py",
   "mimetype": "text/x-python",
   "name": "python",
   "nbconvert_exporter": "python",
   "pygments_lexer": "ipython3",
   "version": "3.11.9"
  }
 },
 "nbformat": 4,
 "nbformat_minor": 2
}
